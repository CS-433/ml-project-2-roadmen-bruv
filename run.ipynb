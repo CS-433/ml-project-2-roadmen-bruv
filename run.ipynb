{
 "cells": [
  {
   "cell_type": "markdown",
   "metadata": {
    "id": "dv9LvNvH0UwW"
   },
   "source": [
    "# **Machine Learning: Project 2 - Road segmentation**\n",
    "\n",
    "---"
   ]
  },
  {
   "cell_type": "markdown",
   "metadata": {
    "id": "eTqRcJFglEQw"
   },
   "source": [
    "## Drive/repository access"
   ]
  },
  {
   "cell_type": "code",
   "execution_count": 1,
   "metadata": {
    "colab": {
     "base_uri": "https://localhost:8080/"
    },
    "executionInfo": {
     "elapsed": 24162,
     "status": "ok",
     "timestamp": 1702919872325,
     "user": {
      "displayName": "Tomas Valdivieso",
      "userId": "06975159853397808043"
     },
     "user_tz": -60
    },
    "id": "AMAsrtnMBVG1",
    "outputId": "382d55d2-8aa2-4600-f6fb-3c57294dec56"
   },
   "outputs": [
    {
     "name": "stdout",
     "output_type": "stream",
     "text": [
      "Mounted at /content/drive\n"
     ]
    }
   ],
   "source": [
    "from google.colab import drive\n",
    "drive.mount('/content/drive',force_remount=True)\n"
   ]
  },
  {
   "cell_type": "code",
   "execution_count": null,
   "metadata": {
    "colab": {
     "base_uri": "https://localhost:8080/"
    },
    "executionInfo": {
     "elapsed": 484,
     "status": "ok",
     "timestamp": 1702835216528,
     "user": {
      "displayName": "Tomas Valdivieso",
      "userId": "06975159853397808043"
     },
     "user_tz": -60
    },
    "id": "NHorZ12T7Oyj",
    "outputId": "934c25a2-4954-4352-c629-7821f94ae907"
   },
   "outputs": [
    {
     "name": "stdout",
     "output_type": "stream",
     "text": [
      "/content/drive/MyDrive/ML_google_colab/Project 2/submission_branch/ml-project-2-roadmen-bruv\n"
     ]
    }
   ],
   "source": [
    "## Folder path to Google Drive project directory\n",
    "\n",
    "victor = False\n",
    "tomas = True\n",
    "edwin = False\n",
    "\n",
    "if tomas:\n",
    "  path_to_your_folder =  \"/content/drive/MyDrive/ML_google_colab/Project 2/submission_branch/ml-project-2-roadmen-bruv\"\n",
    "elif victor:\n",
    "  path_to_your_folder = \"/content/drive/MyDrive/EPFL/MachineLearningMA3/ml-project-2-roadmen-bruv\"\n",
    "elif edwin:\n",
    "  path_to_your_folder = \"/content/drive/MyDrive/ml-project-2-roadmen-bruv\"\n",
    "\n",
    "\n",
    "%cd $path_to_your_folder"
   ]
  },
  {
   "cell_type": "markdown",
   "metadata": {
    "id": "D4romuDEk8Qe"
   },
   "source": [
    "## Libraries installation and imports"
   ]
  },
  {
   "cell_type": "code",
   "execution_count": null,
   "metadata": {
    "id": "32osBUOECMEs"
   },
   "outputs": [],
   "source": [
    "from IPython.display import clear_output\n",
    "!pip install git+https://github.com/qubvel/segmentation_models.pytorch --quiet\n",
    "!pip install -U albumentations --quiet\n",
    "clear_output()"
   ]
  },
  {
   "cell_type": "code",
   "execution_count": null,
   "metadata": {
    "colab": {
     "base_uri": "https://localhost:8080/"
    },
    "executionInfo": {
     "elapsed": 444,
     "status": "ok",
     "timestamp": 1702835237277,
     "user": {
      "displayName": "Tomas Valdivieso",
      "userId": "06975159853397808043"
     },
     "user_tz": -60
    },
    "id": "rslVf64mG26i",
    "outputId": "1012cfc8-5e0e-4f0b-ce4a-3e60a0d1a921"
   },
   "outputs": [
    {
     "name": "stdout",
     "output_type": "stream",
     "text": [
      "The autoreload extension is already loaded. To reload it, use:\n",
      "  %reload_ext autoreload\n"
     ]
    }
   ],
   "source": [
    "%load_ext autoreload\n",
    "%autoreload 2\n",
    "%matplotlib inline\n",
    "\n",
    "import segmentation_models_pytorch as smp\n",
    "from segmentation_models_pytorch import utils as smp_utils\n",
    "import albumentations as albu\n",
    "\n",
    "import sys\n",
    "sys.path.append(\"./utils\")\n",
    "sys.path.append(\"./helpers\")\n",
    "\n",
    "import matplotlib.image as mpimg\n",
    "import numpy as np\n",
    "import matplotlib.pyplot as plt\n",
    "import cv2\n",
    "import os\n",
    "import torch\n",
    "\n",
    "from torch.utils.data import DataLoader\n",
    "from torch.optim.lr_scheduler import ReduceLROnPlateau\n",
    "\n",
    "import pandas as pd\n",
    "\n",
    "## Utils\n",
    "from save_training_results import save_results\n",
    "from data_augmentation import load_img_training, split_keys, store_images, resize_augment_store_dataset, augment_data\n",
    "from dataset import Dataset, get_preprocessing\n",
    "\n",
    "## Helpers\n",
    "from mask_to_submission import masks_to_submission\n",
    "\n",
    "\n",
    "## To empty cache\n",
    "import gc ###\n",
    "gc.collect()\n",
    "torch.cuda.empty_cache()\n",
    "\n",
    "\n",
    "\n",
    "\n"
   ]
  },
  {
   "cell_type": "markdown",
   "metadata": {
    "id": "y_rqdW2ZZdQc"
   },
   "source": [
    "## Augment the data (only needs to be done once)"
   ]
  },
  {
   "cell_type": "code",
   "execution_count": null,
   "metadata": {
    "colab": {
     "base_uri": "https://localhost:8080/"
    },
    "executionInfo": {
     "elapsed": 48928,
     "status": "ok",
     "timestamp": 1702835286197,
     "user": {
      "displayName": "Tomas Valdivieso",
      "userId": "06975159853397808043"
     },
     "user_tz": -60
    },
    "id": "N3tCLfCpobSm",
    "outputId": "e658854b-0d0a-4f77-8fdf-864155bea444"
   },
   "outputs": [
    {
     "name": "stdout",
     "output_type": "stream",
     "text": [
      "Directory data/data_train_augmented created\n",
      "Directory data/data_train_augmented/images/ created\n",
      "Directory data/data_train_augmented/masks/ created\n",
      "Directory data/data_train_augmented/raw/ created\n",
      "Directory data/data_train_augmented/raw/images/ created\n",
      "Directory data/data_train_augmented/raw/masks/ created\n",
      "Directory data/data_validation created\n",
      "Directory data/data_validation/images/ created\n",
      "Directory data/data_validation/masks/ created\n",
      "Directory data/data_validation/raw/ created\n",
      "Directory data/data_validation/raw/images/ created\n",
      "Directory data/data_validation/raw/masks/ created\n",
      "Images stored in ./data/data_train_augmented/raw/images/\n",
      "Images stored in ./data/data_train_augmented/raw/masks/\n",
      "Images stored in ./data/data_validation/raw/images/\n",
      "Images stored in ./data/data_validation/raw/masks/\n",
      "Images stored in ./data/data_validation/images/\n",
      "Images stored in ./data/data_validation/masks/\n",
      "Images stored in ./data/data_train_augmented/images/\n",
      "Images stored in ./data/data_train_augmented/masks/\n",
      "Data augmentation completed.\n"
     ]
    }
   ],
   "source": [
    "# Create folders for data augmentation and store augmented data\n",
    "augment_data()"
   ]
  },
  {
   "cell_type": "markdown",
   "metadata": {
    "id": "XQor9tdyk-wl"
   },
   "source": [
    "## Command board"
   ]
  },
  {
   "cell_type": "code",
   "execution_count": null,
   "metadata": {
    "id": "fuY2yG0t-OYI"
   },
   "outputs": [],
   "source": [
    "PARAMS = {\n",
    "  'MODELS' : [\"Unet\"], # Available : \"Unet\",\"DeepLabV3\",\"FPN\", \"UnetPlusPlus\"\n",
    "  'ENCODER' : 'resnet34',\n",
    "  'ENCODER_WEIGHTS' : 'imagenet',\n",
    "  'NB_EPOCHS' : 15,\n",
    "  'ACTIVATION' : 'sigmoid', # could be None for logits or 'softmax2d' for multiclass segmentation,\n",
    "  'DATA_AUGMENTATION' : False, #choose whether to train with augmented dataset,\n",
    "  'LOSS_TYPE': \"tversky\", # Possible: [\"dice\", \"tversky\", \"custom\"]\n",
    "  'METRIC_TYPE': \"fscore\", # Possible: [\"custom\", \"fscore\"]\n",
    "  'THRESHOLD' : 0.5,  # Threshold for determining foreground vs background\n",
    "  'CLASSES' : ['road'],\n",
    "  'AVERAGE' : True,  # Each image is predicted 4 times (once in each orientation) and the average of those predictions is used as the AICrowd submission\n",
    "  'SUBMISSION_MODEL' : \"Unet\", #Choose which model will be used to generate the aicrowd submission\n",
    "}\n",
    "\n",
    "TVERSKY = {\n",
    "    'alpha' : 0.3,\n",
    "    'beta' : 0.3,\n",
    "    'gamma' : 0.75,\n",
    "}"
   ]
  },
  {
   "cell_type": "code",
   "execution_count": null,
   "metadata": {
    "id": "VG8fw7Xz_g2M"
   },
   "outputs": [],
   "source": [
    "\n",
    "#Creates the necessary folders for saving results\n",
    "model_weights_folder = './submissions/models/'\n",
    "os.makedirs(model_weights_folder, exist_ok=True)\n",
    "\n",
    "# Parameters for saving images\n",
    "submission_folder = './submissions/'\n",
    "os.makedirs(submission_folder, exist_ok=True)\n",
    "\n",
    "pr_masks_folder = submission_folder + 'predicted_masks/'\n",
    "os.makedirs(pr_masks_folder, exist_ok=True)"
   ]
  },
  {
   "cell_type": "markdown",
   "metadata": {
    "id": "cy44lJ5PZQ68"
   },
   "source": [
    "## Creating training and validation set"
   ]
  },
  {
   "cell_type": "code",
   "execution_count": null,
   "metadata": {
    "id": "1CHZmMQaaykZ"
   },
   "outputs": [],
   "source": [
    "## Importing preprocessing fonction\n",
    "preprocessing_fn = smp.encoders.get_preprocessing_fn(PARAMS[\"ENCODER\"], PARAMS[\"ENCODER_WEIGHTS\"])\n",
    "\n",
    "#Defining folder paths\n",
    "PATH_TR_IMG_AUG_RAW = \"./data/data_train_augmented/raw/images/\"\n",
    "PATH_TR_MASK_AUG_RAW = \"./data/data_train_augmented/raw/masks/\"\n",
    "PATH_VAL_IMG_RAW = \"./data/data_validation/raw/images/\"\n",
    "PATH_VAL_MASK_RAW = \"./data/data_validation/raw/masks/\"\n",
    "PATH_TR_IMG_AUG = \"./data/data_train_augmented/images/\"\n",
    "PATH_TR_MASK_AUG = \"./data/data_train_augmented/masks/\"\n",
    "PATH_VAL_IMG = \"./data/data_validation/images/\"\n",
    "PATH_VAL_MASK = \"./data/data_validation/masks/\"\n",
    "\n",
    "\n",
    "#change paths for the training and validation datasets depending on wether we want data augmentation or not\n",
    "if PARAMS[\"DATA_AUGMENTATION\"]:\n",
    "  training_path_img = PATH_TR_IMG_AUG\n",
    "  training_path_mask = PATH_TR_MASK_AUG\n",
    "  validation_path_img = PATH_VAL_IMG\n",
    "  validation_path_mask = PATH_VAL_MASK\n",
    "else:\n",
    "  training_path_img = PATH_TR_IMG_AUG_RAW\n",
    "  training_path_mask = PATH_TR_MASK_AUG_RAW\n",
    "  validation_path_img = PATH_VAL_IMG_RAW\n",
    "  validation_path_mask = PATH_VAL_MASK_RAW\n",
    "\n",
    "#create training and validation datasets\n",
    "train_dataset = Dataset(\n",
    "    training_path_img,\n",
    "    training_path_mask,\n",
    "    preprocessing=get_preprocessing(preprocessing_fn),\n",
    "    classes=[\"road\"])\n",
    "\n",
    "\n",
    "valid_dataset = Dataset(\n",
    "    validation_path_img,\n",
    "    validation_path_mask,\n",
    "    preprocessing=get_preprocessing(preprocessing_fn),\n",
    "    classes=[\"road\"],\n",
    ")\n",
    "\n",
    "#create the loaders for both datasets\n",
    "train_loader = DataLoader(train_dataset, batch_size=30, shuffle=False)\n",
    "valid_loader = DataLoader(valid_dataset, batch_size=20, shuffle=False)\n",
    "\n"
   ]
  },
  {
   "cell_type": "markdown",
   "metadata": {
    "id": "xNLXJTNEn91d"
   },
   "source": [
    "### Patch based Loss and evaluation metrics\n"
   ]
  },
  {
   "cell_type": "code",
   "execution_count": null,
   "metadata": {
    "id": "764Vgxn2ayka"
   },
   "outputs": [],
   "source": [
    "from f1scorepatch import F1ScorePatch\n",
    "\n",
    "# select the loss type\n",
    "if PARAMS[\"LOSS_TYPE\"] == \"dice\":\n",
    "  loss_fn = smp.losses.dice.DiceLoss(mode ='binary')\n",
    "  loss_fn.__name__ = 'Dice_loss'\n",
    "  loss_name = 'Dice_loss'\n",
    "elif PARAMS[\"LOSS_TYPE\"] == \"tversky\":\n",
    "  loss_fn = smp.losses.tversky.TverskyLoss(mode ='binary', alpha=TVERSKY[\"alpha\"] , beta=TVERSKY[\"beta\"], gamma=TVERSKY[\"gamma\"])\n",
    "  loss_fn.__name__ = 'Tversky_Loss'\n",
    "  loss_name = 'Tversky_Loss'\n",
    "\n",
    "# select the metric type\n",
    "if PARAMS[\"METRIC_TYPE\"] == \"fscore\":\n",
    "  metrics_training = [smp_utils.metrics.Fscore()]\n",
    "  metrics_validation = [smp_utils.metrics.Fscore(), F1ScorePatch(activation='sigmoid')]\n",
    "  metric_name_val = \"f1_score_patch\" # can also pick \"fscore\""
   ]
  },
  {
   "cell_type": "markdown",
   "metadata": {
    "id": "l-P1uVn8mAIN"
   },
   "source": [
    "## Training"
   ]
  },
  {
   "cell_type": "code",
   "execution_count": null,
   "metadata": {
    "colab": {
     "base_uri": "https://localhost:8080/"
    },
    "executionInfo": {
     "elapsed": 1230,
     "status": "ok",
     "timestamp": 1702835288358,
     "user": {
      "displayName": "Tomas Valdivieso",
      "userId": "06975159853397808043"
     },
     "user_tz": -60
    },
    "id": "Cd2imBFfaykX",
    "outputId": "eec093e0-5e25-443e-b943-144e2c68b0cd"
   },
   "outputs": [
    {
     "name": "stderr",
     "output_type": "stream",
     "text": [
      "Downloading: \"https://download.pytorch.org/models/resnet34-333f7ec4.pth\" to /root/.cache/torch/hub/checkpoints/resnet34-333f7ec4.pth\n",
      "100%|██████████| 83.3M/83.3M [00:00<00:00, 273MB/s]\n"
     ]
    }
   ],
   "source": [
    "#Instantiating all the models\n",
    "models = [[smp.create_model(model_name, encoder_name=PARAMS[\"ENCODER\"], encoder_weights = PARAMS[\"ENCODER_WEIGHTS\"], in_channels=3, classes=1),model_name] for model_name in PARAMS[\"MODELS\"]]"
   ]
  },
  {
   "cell_type": "code",
   "execution_count": null,
   "metadata": {
    "colab": {
     "base_uri": "https://localhost:8080/",
     "height": 1000
    },
    "executionInfo": {
     "elapsed": 126099,
     "status": "ok",
     "timestamp": 1702835414449,
     "user": {
      "displayName": "Tomas Valdivieso",
      "userId": "06975159853397808043"
     },
     "user_tz": -60
    },
    "id": "h2DZo52faykc",
    "outputId": "a1c3fc05-dea1-49ab-e119-cf546176a55b"
   },
   "outputs": [
    {
     "name": "stdout",
     "output_type": "stream",
     "text": [
      "Unet\n",
      "\n",
      "Epoch: 0\n",
      "train: 100%|██████████| 3/3 [00:07<00:00,  2.64s/it, Tversky_Loss - 0.3817, fscore - 0.3189]\n",
      "valid: 100%|██████████| 1/1 [00:04<00:00,  4.11s/it, Tversky_Loss - 0.6932, fscore - 0.008219, f1_score_patch - 0.06169]\n",
      "dict_items([('Tversky_Loss', 0.6932409405708313), ('fscore', 0.008218859322369099), ('f1_score_patch', 0.06168585643172264)])\n",
      "{'Tversky_Loss': 0.6932409405708313, 'fscore': 0.008218859322369099, 'f1_score_patch': 0.06168585643172264}\n",
      "Model saved!\n",
      "\n",
      "Epoch: 1\n",
      "train: 100%|██████████| 3/3 [00:05<00:00,  1.95s/it, Tversky_Loss - 0.3181, fscore - 0.5527]\n",
      "valid: 100%|██████████| 1/1 [00:05<00:00,  5.47s/it, Tversky_Loss - 0.3835, fscore - 0.2043, f1_score_patch - 0.8186]\n",
      "dict_items([('Tversky_Loss', 0.3834832012653351), ('fscore', 0.2042970359325409), ('f1_score_patch', 0.8186129331588745)])\n",
      "{'Tversky_Loss': 0.3834832012653351, 'fscore': 0.2042970359325409, 'f1_score_patch': 0.8186129331588745}\n",
      "Model saved!\n",
      "\n",
      "Epoch: 2\n",
      "train: 100%|██████████| 3/3 [00:04<00:00,  1.44s/it, Tversky_Loss - 0.2746, fscore - 0.7428]\n",
      "valid: 100%|██████████| 1/1 [00:02<00:00,  2.13s/it, Tversky_Loss - 0.4008, fscore - 0.2131, f1_score_patch - 0.7381]\n",
      "dict_items([('Tversky_Loss', 0.4007991850376129), ('fscore', 0.21308647096157074), ('f1_score_patch', 0.7381041646003723)])\n",
      "{'Tversky_Loss': 0.4007991850376129, 'fscore': 0.21308647096157074, 'f1_score_patch': 0.7381041646003723}\n",
      "\n",
      "Epoch: 3\n",
      "train: 100%|██████████| 3/3 [00:04<00:00,  1.54s/it, Tversky_Loss - 0.246, fscore - 0.8383]\n",
      "valid: 100%|██████████| 1/1 [00:02<00:00,  2.16s/it, Tversky_Loss - 0.3603, fscore - 0.3704, f1_score_patch - 0.8026]\n",
      "dict_items([('Tversky_Loss', 0.3603407144546509), ('fscore', 0.37044569849967957), ('f1_score_patch', 0.8025873303413391)])\n",
      "{'Tversky_Loss': 0.3603407144546509, 'fscore': 0.37044569849967957, 'f1_score_patch': 0.8025873303413391}\n",
      "\n",
      "Epoch: 4\n",
      "train: 100%|██████████| 3/3 [00:04<00:00,  1.41s/it, Tversky_Loss - 0.2259, fscore - 0.8833]\n",
      "valid: 100%|██████████| 1/1 [00:02<00:00,  2.20s/it, Tversky_Loss - 0.3139, fscore - 0.6249, f1_score_patch - 0.857]\n",
      "dict_items([('Tversky_Loss', 0.3138546347618103), ('fscore', 0.6249099969863892), ('f1_score_patch', 0.8570185899734497)])\n",
      "{'Tversky_Loss': 0.3138546347618103, 'fscore': 0.6249099969863892, 'f1_score_patch': 0.8570185899734497}\n",
      "Model saved!\n",
      "\n",
      "Epoch: 5\n",
      "train: 100%|██████████| 3/3 [00:04<00:00,  1.51s/it, Tversky_Loss - 0.2104, fscore - 0.907]\n",
      "valid: 100%|██████████| 1/1 [00:02<00:00,  2.78s/it, Tversky_Loss - 0.2568, fscore - 0.826, f1_score_patch - 0.9102]\n",
      "dict_items([('Tversky_Loss', 0.2568122148513794), ('fscore', 0.8260469436645508), ('f1_score_patch', 0.9102416038513184)])\n",
      "{'Tversky_Loss': 0.2568122148513794, 'fscore': 0.8260469436645508, 'f1_score_patch': 0.9102416038513184}\n",
      "Model saved!\n",
      "\n",
      "Epoch: 6\n",
      "train: 100%|██████████| 3/3 [00:04<00:00,  1.46s/it, Tversky_Loss - 0.1976, fscore - 0.918]\n",
      "valid: 100%|██████████| 1/1 [00:02<00:00,  2.11s/it, Tversky_Loss - 0.2174, fscore - 0.9, f1_score_patch - 0.938]\n",
      "dict_items([('Tversky_Loss', 0.2173532396554947), ('fscore', 0.8999971747398376), ('f1_score_patch', 0.938006579875946)])\n",
      "{'Tversky_Loss': 0.2173532396554947, 'fscore': 0.8999971747398376, 'f1_score_patch': 0.938006579875946}\n",
      "Model saved!\n",
      "\n",
      "Epoch: 7\n",
      "train: 100%|██████████| 3/3 [00:04<00:00,  1.52s/it, Tversky_Loss - 0.1861, fscore - 0.9299]\n",
      "valid: 100%|██████████| 1/1 [00:02<00:00,  2.81s/it, Tversky_Loss - 0.1945, fscore - 0.9264, f1_score_patch - 0.9443]\n",
      "dict_items([('Tversky_Loss', 0.1945074200630188), ('fscore', 0.9264420866966248), ('f1_score_patch', 0.9443327784538269)])\n",
      "{'Tversky_Loss': 0.1945074200630188, 'fscore': 0.9264420866966248, 'f1_score_patch': 0.9443327784538269}\n",
      "Model saved!\n",
      "\n",
      "Epoch: 8\n",
      "train: 100%|██████████| 3/3 [00:04<00:00,  1.45s/it, Tversky_Loss - 0.1753, fscore - 0.9413]\n",
      "valid: 100%|██████████| 1/1 [00:02<00:00,  2.13s/it, Tversky_Loss - 0.1827, fscore - 0.9312, f1_score_patch - 0.9472]\n",
      "dict_items([('Tversky_Loss', 0.1826997548341751), ('fscore', 0.9311894774436951), ('f1_score_patch', 0.9471721053123474)])\n",
      "{'Tversky_Loss': 0.1826997548341751, 'fscore': 0.9311894774436951, 'f1_score_patch': 0.9471721053123474}\n",
      "Model saved!\n",
      "\n",
      "Epoch: 9\n",
      "train: 100%|██████████| 3/3 [00:05<00:00,  1.72s/it, Tversky_Loss - 0.1651, fscore - 0.9514]\n",
      "valid: 100%|██████████| 1/1 [00:05<00:00,  5.88s/it, Tversky_Loss - 0.1726, fscore - 0.9373, f1_score_patch - 0.9499]\n",
      "dict_items([('Tversky_Loss', 0.17257721722126007), ('fscore', 0.9372960925102234), ('f1_score_patch', 0.949944019317627)])\n",
      "{'Tversky_Loss': 0.17257721722126007, 'fscore': 0.9372960925102234, 'f1_score_patch': 0.949944019317627}\n",
      "Model saved!\n",
      "\n",
      "Epoch: 10\n",
      "train: 100%|██████████| 3/3 [00:07<00:00,  2.61s/it, Tversky_Loss - 0.1558, fscore - 0.9585]\n",
      "valid: 100%|██████████| 1/1 [00:02<00:00,  2.82s/it, Tversky_Loss - 0.1659, fscore - 0.9426, f1_score_patch - 0.9523]\n",
      "dict_items([('Tversky_Loss', 0.16592368483543396), ('fscore', 0.9426053762435913), ('f1_score_patch', 0.9523037672042847)])\n",
      "{'Tversky_Loss': 0.16592368483543396, 'fscore': 0.9426053762435913, 'f1_score_patch': 0.9523037672042847}\n",
      "Model saved!\n",
      "\n",
      "Epoch: 11\n",
      "train: 100%|██████████| 3/3 [00:05<00:00,  1.71s/it, Tversky_Loss - 0.1478, fscore - 0.9643]\n",
      "valid: 100%|██████████| 1/1 [00:02<00:00,  2.20s/it, Tversky_Loss - 0.1635, fscore - 0.9408, f1_score_patch - 0.9515]\n",
      "dict_items([('Tversky_Loss', 0.1634868085384369), ('fscore', 0.9408491849899292), ('f1_score_patch', 0.95147705078125)])\n",
      "{'Tversky_Loss': 0.1634868085384369, 'fscore': 0.9408491849899292, 'f1_score_patch': 0.95147705078125}\n",
      "\n",
      "Epoch: 12\n",
      "train: 100%|██████████| 3/3 [00:04<00:00,  1.49s/it, Tversky_Loss - 0.1424, fscore - 0.9658]\n",
      "valid: 100%|██████████| 1/1 [00:02<00:00,  2.75s/it, Tversky_Loss - 0.1578, fscore - 0.9438, f1_score_patch - 0.9542]\n",
      "dict_items([('Tversky_Loss', 0.15777772665023804), ('fscore', 0.9438268542289734), ('f1_score_patch', 0.954205334186554)])\n",
      "{'Tversky_Loss': 0.15777772665023804, 'fscore': 0.9438268542289734, 'f1_score_patch': 0.954205334186554}\n",
      "Model saved!\n",
      "\n",
      "Epoch: 13\n",
      "train: 100%|██████████| 3/3 [00:04<00:00,  1.45s/it, Tversky_Loss - 0.1376, fscore - 0.966]\n",
      "valid: 100%|██████████| 1/1 [00:02<00:00,  2.16s/it, Tversky_Loss - 0.1578, fscore - 0.9385, f1_score_patch - 0.9504]\n",
      "dict_items([('Tversky_Loss', 0.15782074630260468), ('fscore', 0.9385480284690857), ('f1_score_patch', 0.950408935546875)])\n",
      "{'Tversky_Loss': 0.15782074630260468, 'fscore': 0.9385480284690857, 'f1_score_patch': 0.950408935546875}\n",
      "\n",
      "Epoch: 14\n",
      "train: 100%|██████████| 3/3 [00:04<00:00,  1.47s/it, Tversky_Loss - 0.1331, fscore - 0.965]\n",
      "valid: 100%|██████████| 1/1 [00:02<00:00,  2.79s/it, Tversky_Loss - 0.1513, fscore - 0.9427, f1_score_patch - 0.9524]\n",
      "dict_items([('Tversky_Loss', 0.15127462148666382), ('fscore', 0.9427191615104675), ('f1_score_patch', 0.952397346496582)])\n",
      "{'Tversky_Loss': 0.15127462148666382, 'fscore': 0.9427191615104675, 'f1_score_patch': 0.952397346496582}\n"
     ]
    },
    {
     "data": {
      "text/plain": [
       "<matplotlib.legend.Legend at 0x7f43a815b9d0>"
      ]
     },
     "execution_count": 15,
     "metadata": {},
     "output_type": "execute_result"
    },
    {
     "data": {
      "image/png": "[encoded data removed]",
      "text/plain": [
       "<Figure size 1000x500 with 1 Axes>"
      ]
     },
     "metadata": {},
     "output_type": "display_data"
    }
   ],
   "source": [
    "# train models for NB_EPOCHS\n",
    "\n",
    "for model,model_name in models:\n",
    "  print(model_name)\n",
    "  optimizer = torch.optim.Adam([\n",
    "    dict(params=model.parameters(), lr=4.559e-4),\n",
    "])\n",
    "\n",
    "  train_epoch = smp.utils.train.TrainEpoch(\n",
    "      model,\n",
    "      loss=loss_fn,\n",
    "      metrics=metrics_training,\n",
    "      optimizer=optimizer,\n",
    "      device=\"cuda\",\n",
    "      verbose=True,\n",
    "  )\n",
    "\n",
    "  valid_epoch = smp.utils.train.ValidEpoch(\n",
    "      model,\n",
    "      loss=loss_fn,\n",
    "      metrics= metrics_validation,\n",
    "      device=\"cuda\",\n",
    "      verbose=True,\n",
    "  )\n",
    "\n",
    "\n",
    "  max_score = 0\n",
    "  train_loss_array = []\n",
    "  validation_loss_array = []\n",
    "  validation_fscore_array = []\n",
    "\n",
    "  scheduler = ReduceLROnPlateau(optimizer, mode='max', factor=0.5, patience=3, verbose=True)\n",
    "\n",
    "  for i in range(0, PARAMS[\"NB_EPOCHS\"]):\n",
    "\n",
    "      print('\\nEpoch: {}'.format(i))\n",
    "      train_logs = train_epoch.run(train_loader)\n",
    "      valid_logs = valid_epoch.run(valid_loader)\n",
    "      print(valid_logs.items())\n",
    "      train_loss_array.append(train_logs[loss_name])\n",
    "      validation_loss_array.append(valid_logs[loss_name])\n",
    "      validation_fscore_array.append(valid_logs[metric_name_val])\n",
    "      print(valid_logs)\n",
    "\n",
    "      scheduler.step(valid_logs[metric_name_val])\n",
    "\n",
    "      # only saving the model if the validation metric increases\n",
    "      if max_score < valid_logs[metric_name_val]:\n",
    "          max_score = valid_logs[metric_name_val]\n",
    "          torch.save(model, model_weights_folder + 'best_model_{}.pth'.format(model_name))\n",
    "          print('Model saved!')\n",
    "\n",
    "\n",
    "  epochs = range(0,len(train_loss_array))\n",
    "  save_results(PARAMS,train_loss_array,validation_loss_array,validation_fscore_array)\n",
    "\n",
    "# plot the results of the training\n",
    "plt.figure(figsize=(10, 5))\n",
    "plt.plot(epochs, train_loss_array,\"o\", label='Training Loss')\n",
    "plt.plot(epochs, validation_loss_array,  label='Validation Loss')\n",
    "plt.plot(epochs, validation_fscore_array, \"o\" ,  label='Validation fscore')\n",
    "plt.title('Training and Validation Loss for {}'.format(model_name))\n",
    "plt.xlabel('Epochs')\n",
    "plt.ylabel('Loss')\n",
    "plt.legend()\n",
    "\n",
    "\n",
    "\n"
   ]
  },
  {
   "cell_type": "markdown",
   "metadata": {
    "id": "gb7gjUmf17ON"
   },
   "source": [
    "## Load trained model\n",
    "---\n",
    "\n"
   ]
  },
  {
   "cell_type": "code",
   "execution_count": null,
   "metadata": {
    "id": "HBx4LAICmMHa"
   },
   "outputs": [],
   "source": [
    "MODEL_NAME = PARAMS[\"SUBMISSION_MODEL\"]\n",
    "MODEL_PATH = model_weights_folder + f'best_model_{MODEL_NAME}.pth'\n",
    "DEVICE ='cuda'\n",
    "test_model = torch.load(MODEL_PATH)\n"
   ]
  },
  {
   "cell_type": "code",
   "execution_count": null,
   "metadata": {
    "id": "Q56JyGLW17OS"
   },
   "outputs": [],
   "source": [
    "#dataset used for predictions\n",
    "test_dataset = Dataset(\n",
    "    images_dir=\"./data/test_set_images/\",\n",
    "    preprocessing= get_preprocessing(preprocessing_fn),\n",
    "    classes=['road'])\n",
    "\n",
    "test_loader = DataLoader(test_dataset, batch_size=1, shuffle=False, num_workers=0)"
   ]
  },
  {
   "cell_type": "markdown",
   "metadata": {
    "id": "_dYBFsNmu4gX"
   },
   "source": [
    "## Generate predictions"
   ]
  },
  {
   "cell_type": "code",
   "execution_count": null,
   "metadata": {
    "id": "UChWeShx0lXC"
   },
   "outputs": [],
   "source": [
    "\n",
    "### with average of multiple predictions\n",
    "DEVICE = torch.device(\"cuda\" if torch.cuda.is_available() else \"cpu\")\n",
    "test_model = test_model.to(DEVICE)\n",
    "\n",
    "\n",
    "# Iterate over the DataLoader\n",
    "for i, (path, image) in enumerate(test_loader):\n",
    "    path = path[0]\n",
    "    with torch.no_grad():\n",
    "        test_model.eval()\n",
    "        # Move input to the device\n",
    "        input_tensor = image.to(DEVICE)\n",
    "        n, c, h, w = input_tensor.size()\n",
    "        sum = torch.zeros((n, 1, h, w), device='cuda')\n",
    "        if PARAMS[\"AVERAGE\"]:\n",
    "          for i in range(4):\n",
    "            img_rot = torch.rot90(input_tensor, i%4, [2, 3])\n",
    "            prediction = test_model(img_rot)\n",
    "            prediction = torch.rot90(prediction, 4-(i%4), [2, 3]) #rotation back\n",
    "            sum += prediction\n",
    "          pred = sum / 4\n",
    "        else:\n",
    "          pred = test_model(input_tensor)\n",
    "\n",
    "\n",
    "        pred_np = pred.detach().cpu().numpy()[0, 0]\n",
    "        pred_np = 1 / (1 + np.exp(-pred_np))\n",
    "        pred_voting = (pred_np < 0.5).astype(float)*255\n",
    "\n",
    "        # Save the image\n",
    "        image_num = path.split('/')[-1].split('_')[-1].split('.')[0]\n",
    "        image_num = int(image_num)\n",
    "        filename = \"pr_img_\" + '%.3d' % image_num + '.png'\n",
    "\n",
    "\n",
    "        cv2.imwrite(os.path.join(pr_masks_folder, filename),pred_voting)"
   ]
  },
  {
   "cell_type": "markdown",
   "metadata": {
    "id": "d_cqzcgW-6uS"
   },
   "source": [
    "## Visualise predictions"
   ]
  },
  {
   "cell_type": "code",
   "execution_count": null,
   "metadata": {
    "colab": {
     "base_uri": "https://localhost:8080/",
     "height": 1000,
     "output_embedded_package_id": "18vCII2dDEDl1vFvDFujPPSAA7C6lqVXB"
    },
    "executionInfo": {
     "elapsed": 49643,
     "status": "ok",
     "timestamp": 1702836588146,
     "user": {
      "displayName": "Tomas Valdivieso",
      "userId": "06975159853397808043"
     },
     "user_tz": -60
    },
    "id": "e52giDyD-47e",
    "outputId": "a1ee15cf-3cd3-455b-e2ff-0d522553fb4c"
   },
   "outputs": [
    {
     "data": {
      "text/plain": [
       "Output hidden; open in https://colab.research.google.com to view."
      ]
     },
     "metadata": {},
     "output_type": "display_data"
    }
   ],
   "source": [
    "def list_files_in_directory(directory):\n",
    "    file_list = []\n",
    "    for root, dirs, files in os.walk(directory):\n",
    "        for file in files:\n",
    "            file_list.append(os.path.join(root, file))\n",
    "    return file_list\n",
    "\n",
    "\n",
    "pred_files = list_files_in_directory(pr_masks_folder)\n",
    "pred_files = sorted(pred_files, key=lambda x: int(os.path.basename(x)[7:-4]))\n",
    "\n",
    "#could sort pred files and images files\n",
    "img_path = \"./data/test_set_images/\"\n",
    "img_files = list_files_in_directory(img_path)\n",
    "img_files = sorted(img_files, key=lambda x: int(os.path.basename(x)[5:-4]))\n",
    "img_mask_list = []\n",
    "for i, pred_file in enumerate(pred_files):\n",
    "    img = cv2.imread(img_files[i], cv2.IMREAD_COLOR)\n",
    "    pred_mask = cv2.imread(pred_file, cv2.IMREAD_GRAYSCALE)\n",
    "\n",
    "    # Create a semi-transparent green mask\n",
    "    alpha = 0.7\n",
    "    red_mask = np.zeros_like(img)\n",
    "    for (i,j), value in np.ndenumerate(pred_mask):\n",
    "        if value == 255:\n",
    "            red_mask[i,j] = [0, 255, 0]\n",
    "\n",
    "    # Combine image and the green mask\n",
    "    result = cv2.addWeighted(img, 1, red_mask, alpha, 0)\n",
    "    img_mask_list.append(result)\n",
    "# Set the number of images per row\n",
    "images_per_row = 5\n",
    "\n",
    "# Calculate the number of rows needed\n",
    "num_rows = (len(img_mask_list) + images_per_row - 1) // images_per_row\n",
    "\n",
    "# Create a single row of subplots\n",
    "fig, axs = plt.subplots(1, images_per_row, figsize=(10, 5))\n",
    "\n",
    "# Loop through files and plot images\n",
    "for i, img in enumerate(img_mask_list):\n",
    "    axs[i % images_per_row].imshow(img)\n",
    "    axs[i % images_per_row].axis('off')\n",
    "\n",
    "    # If last image in the row, create a new row of subplots\n",
    "    if (i + 1) % images_per_row == 0:\n",
    "        plt.show()\n",
    "        if i + 1 < len(img_mask_list):\n",
    "            fig, axs = plt.subplots(1, images_per_row, figsize=(10, 5))\n",
    "\n",
    "plt.show()\n"
   ]
  },
  {
   "cell_type": "markdown",
   "metadata": {
    "id": "bOb_uXCiu_gL"
   },
   "source": [
    "## Submission"
   ]
  },
  {
   "cell_type": "code",
   "execution_count": null,
   "metadata": {
    "id": "OgXcwZ4K17OX"
   },
   "outputs": [],
   "source": [
    "submission_filename = submission_folder + '{}.csv'.format(MODEL_NAME)\n",
    "image_filenames = []\n",
    "for i in range(1, 51):\n",
    "    image_filename = pr_masks_folder + 'pr_img_' + '%.3d' % i + '.png'\n",
    "    image_filenames.append(image_filename)\n",
    "masks_to_submission(submission_filename, *image_filenames)\n"
   ]
  }
 ],
 "metadata": {
  "accelerator": "GPU",
  "colab": {
   "provenance": []
  },
  "kernelspec": {
   "display_name": "Python 3",
   "name": "python3"
  },
  "language_info": {
   "codemirror_mode": {
    "name": "ipython",
    "version": 3
   },
   "file_extension": ".py",
   "mimetype": "text/x-python",
   "name": "python",
   "nbconvert_exporter": "python",
   "pygments_lexer": "ipython3",
   "version": "3.11.5"
  }
 },
 "nbformat": 4,
 "nbformat_minor": 0
}
