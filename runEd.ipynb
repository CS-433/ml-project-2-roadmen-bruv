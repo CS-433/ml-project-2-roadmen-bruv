{
 "cells": [
  {
   "cell_type": "code",
   "execution_count": null,
   "id": "29d1fde4-aebb-4622-a3dd-1b556ff06b89",
   "metadata": {},
   "outputs": [],
   "source": [
    "from google.colab import drive\n",
    "drive.mount('/content/drive/')"
   ]
  },
  {
   "cell_type": "code",
   "execution_count": null,
   "id": "da0fcefb-269e-4cb8-b660-6d430d9005cc",
   "metadata": {},
   "outputs": [],
   "source": [
    "%cd /content/drive/MyDrive/ml-project-2-roadmen-bruv/"
   ]
  },
  {
   "cell_type": "code",
   "execution_count": null,
   "id": "4d19f1a9-a903-42fc-95f4-a22e11d54000",
   "metadata": {},
   "outputs": [],
   "source": [
    "!git status"
   ]
  },
  {
   "cell_type": "code",
   "execution_count": null,
   "id": "6a04aaff-8e16-4c1c-9b77-4976b2c4e66d",
   "metadata": {},
   "outputs": [],
   "source": [
    "!git pull"
   ]
  },
  {
   "cell_type": "code",
   "execution_count": null,
   "id": "170951d5-d9c3-4308-8050-21a99af67057",
   "metadata": {},
   "outputs": [],
   "source": [
    "!git add ."
   ]
  },
  {
   "cell_type": "code",
   "execution_count": null,
   "id": "0ab073da-b1bc-4e9e-900d-eea7e51510ca",
   "metadata": {},
   "outputs": [],
   "source": [
    "!git config --global user.email \"edwin.bertschy@epfl.ch\"\n",
    "!git config --global user.email \"ebertschy\""
   ]
  },
  {
   "cell_type": "code",
   "execution_count": null,
   "id": "44091679-7aa9-428a-b394-5c5263b942ae",
   "metadata": {},
   "outputs": [],
   "source": [
    "!git push"
   ]
  }
 ],
 "metadata": {
  "kernelspec": {
   "display_name": "Python3",
   "language": "python",
   "name": "python3"
  },
  "language_info": {
   "codemirror_mode": {
    "name": "ipython",
    "version": 3
   },
   "file_extension": ".py",
   "mimetype": "text/x-python",
   "name": "python",
   "nbconvert_exporter": "python",
   "pygments_lexer": "ipython3",
   "version": "3.11.5"
  }
 },
 "nbformat": 4,
 "nbformat_minor": 5
}
